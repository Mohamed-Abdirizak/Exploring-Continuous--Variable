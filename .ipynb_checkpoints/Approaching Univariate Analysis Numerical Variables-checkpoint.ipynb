{
 "cells": [
  {
   "cell_type": "code",
   "execution_count": 1,
   "id": "5dc7cf39",
   "metadata": {},
   "outputs": [],
   "source": [
    "import pandas as pd"
   ]
  },
  {
   "cell_type": "code",
   "execution_count": 2,
   "id": "2ca75196",
   "metadata": {},
   "outputs": [],
   "source": [
    "data = pd.read_csv('churn_prediction.csv')"
   ]
  },
  {
   "cell_type": "code",
   "execution_count": 3,
   "id": "b9a34242",
   "metadata": {},
   "outputs": [
    {
     "data": {
      "text/html": [
       "<div>\n",
       "<style scoped>\n",
       "    .dataframe tbody tr th:only-of-type {\n",
       "        vertical-align: middle;\n",
       "    }\n",
       "\n",
       "    .dataframe tbody tr th {\n",
       "        vertical-align: top;\n",
       "    }\n",
       "\n",
       "    .dataframe thead th {\n",
       "        text-align: right;\n",
       "    }\n",
       "</style>\n",
       "<table border=\"1\" class=\"dataframe\">\n",
       "  <thead>\n",
       "    <tr style=\"text-align: right;\">\n",
       "      <th></th>\n",
       "      <th>customer_id</th>\n",
       "      <th>vintage</th>\n",
       "      <th>age</th>\n",
       "      <th>gender</th>\n",
       "      <th>dependents</th>\n",
       "      <th>occupation</th>\n",
       "      <th>city</th>\n",
       "      <th>customer_nw_category</th>\n",
       "      <th>branch_code</th>\n",
       "      <th>current_balance</th>\n",
       "      <th>...</th>\n",
       "      <th>average_monthly_balance_prevQ</th>\n",
       "      <th>average_monthly_balance_prevQ2</th>\n",
       "      <th>current_month_credit</th>\n",
       "      <th>previous_month_credit</th>\n",
       "      <th>current_month_debit</th>\n",
       "      <th>previous_month_debit</th>\n",
       "      <th>current_month_balance</th>\n",
       "      <th>previous_month_balance</th>\n",
       "      <th>churn</th>\n",
       "      <th>last_transaction</th>\n",
       "    </tr>\n",
       "  </thead>\n",
       "  <tbody>\n",
       "    <tr>\n",
       "      <th>0</th>\n",
       "      <td>1</td>\n",
       "      <td>2101</td>\n",
       "      <td>66</td>\n",
       "      <td>Male</td>\n",
       "      <td>0.0</td>\n",
       "      <td>self_employed</td>\n",
       "      <td>187.0</td>\n",
       "      <td>2</td>\n",
       "      <td>755</td>\n",
       "      <td>1458.71</td>\n",
       "      <td>...</td>\n",
       "      <td>1458.71</td>\n",
       "      <td>1449.07</td>\n",
       "      <td>0.20</td>\n",
       "      <td>0.20</td>\n",
       "      <td>0.20</td>\n",
       "      <td>0.20</td>\n",
       "      <td>1458.71</td>\n",
       "      <td>1458.71</td>\n",
       "      <td>0</td>\n",
       "      <td>2019-05-21</td>\n",
       "    </tr>\n",
       "    <tr>\n",
       "      <th>1</th>\n",
       "      <td>2</td>\n",
       "      <td>2348</td>\n",
       "      <td>35</td>\n",
       "      <td>Male</td>\n",
       "      <td>0.0</td>\n",
       "      <td>self_employed</td>\n",
       "      <td>NaN</td>\n",
       "      <td>2</td>\n",
       "      <td>3214</td>\n",
       "      <td>5390.37</td>\n",
       "      <td>...</td>\n",
       "      <td>7799.26</td>\n",
       "      <td>12419.41</td>\n",
       "      <td>0.56</td>\n",
       "      <td>0.56</td>\n",
       "      <td>5486.27</td>\n",
       "      <td>100.56</td>\n",
       "      <td>6496.78</td>\n",
       "      <td>8787.61</td>\n",
       "      <td>0</td>\n",
       "      <td>2019-11-01</td>\n",
       "    </tr>\n",
       "    <tr>\n",
       "      <th>2</th>\n",
       "      <td>4</td>\n",
       "      <td>2194</td>\n",
       "      <td>31</td>\n",
       "      <td>Male</td>\n",
       "      <td>0.0</td>\n",
       "      <td>salaried</td>\n",
       "      <td>146.0</td>\n",
       "      <td>2</td>\n",
       "      <td>41</td>\n",
       "      <td>3913.16</td>\n",
       "      <td>...</td>\n",
       "      <td>4910.17</td>\n",
       "      <td>2815.94</td>\n",
       "      <td>0.61</td>\n",
       "      <td>0.61</td>\n",
       "      <td>6046.73</td>\n",
       "      <td>259.23</td>\n",
       "      <td>5006.28</td>\n",
       "      <td>5070.14</td>\n",
       "      <td>0</td>\n",
       "      <td>NaT</td>\n",
       "    </tr>\n",
       "    <tr>\n",
       "      <th>3</th>\n",
       "      <td>5</td>\n",
       "      <td>2329</td>\n",
       "      <td>90</td>\n",
       "      <td>NaN</td>\n",
       "      <td>NaN</td>\n",
       "      <td>self_employed</td>\n",
       "      <td>1020.0</td>\n",
       "      <td>2</td>\n",
       "      <td>582</td>\n",
       "      <td>2291.91</td>\n",
       "      <td>...</td>\n",
       "      <td>2084.54</td>\n",
       "      <td>1006.54</td>\n",
       "      <td>0.47</td>\n",
       "      <td>0.47</td>\n",
       "      <td>0.47</td>\n",
       "      <td>2143.33</td>\n",
       "      <td>2291.91</td>\n",
       "      <td>1669.79</td>\n",
       "      <td>1</td>\n",
       "      <td>2019-08-06</td>\n",
       "    </tr>\n",
       "    <tr>\n",
       "      <th>4</th>\n",
       "      <td>6</td>\n",
       "      <td>1579</td>\n",
       "      <td>42</td>\n",
       "      <td>Male</td>\n",
       "      <td>2.0</td>\n",
       "      <td>self_employed</td>\n",
       "      <td>1494.0</td>\n",
       "      <td>3</td>\n",
       "      <td>388</td>\n",
       "      <td>927.72</td>\n",
       "      <td>...</td>\n",
       "      <td>1643.31</td>\n",
       "      <td>1871.12</td>\n",
       "      <td>0.33</td>\n",
       "      <td>714.61</td>\n",
       "      <td>588.62</td>\n",
       "      <td>1538.06</td>\n",
       "      <td>1157.15</td>\n",
       "      <td>1677.16</td>\n",
       "      <td>1</td>\n",
       "      <td>2019-11-03</td>\n",
       "    </tr>\n",
       "  </tbody>\n",
       "</table>\n",
       "<p>5 rows × 21 columns</p>\n",
       "</div>"
      ],
      "text/plain": [
       "   customer_id  vintage  age gender  dependents     occupation    city  \\\n",
       "0            1     2101   66   Male         0.0  self_employed   187.0   \n",
       "1            2     2348   35   Male         0.0  self_employed     NaN   \n",
       "2            4     2194   31   Male         0.0       salaried   146.0   \n",
       "3            5     2329   90    NaN         NaN  self_employed  1020.0   \n",
       "4            6     1579   42   Male         2.0  self_employed  1494.0   \n",
       "\n",
       "   customer_nw_category  branch_code  current_balance  ...  \\\n",
       "0                     2          755          1458.71  ...   \n",
       "1                     2         3214          5390.37  ...   \n",
       "2                     2           41          3913.16  ...   \n",
       "3                     2          582          2291.91  ...   \n",
       "4                     3          388           927.72  ...   \n",
       "\n",
       "   average_monthly_balance_prevQ  average_monthly_balance_prevQ2  \\\n",
       "0                        1458.71                         1449.07   \n",
       "1                        7799.26                        12419.41   \n",
       "2                        4910.17                         2815.94   \n",
       "3                        2084.54                         1006.54   \n",
       "4                        1643.31                         1871.12   \n",
       "\n",
       "   current_month_credit  previous_month_credit  current_month_debit  \\\n",
       "0                  0.20                   0.20                 0.20   \n",
       "1                  0.56                   0.56              5486.27   \n",
       "2                  0.61                   0.61              6046.73   \n",
       "3                  0.47                   0.47                 0.47   \n",
       "4                  0.33                 714.61               588.62   \n",
       "\n",
       "   previous_month_debit  current_month_balance  previous_month_balance  churn  \\\n",
       "0                  0.20                1458.71                 1458.71      0   \n",
       "1                100.56                6496.78                 8787.61      0   \n",
       "2                259.23                5006.28                 5070.14      0   \n",
       "3               2143.33                2291.91                 1669.79      1   \n",
       "4               1538.06                1157.15                 1677.16      1   \n",
       "\n",
       "   last_transaction  \n",
       "0        2019-05-21  \n",
       "1        2019-11-01  \n",
       "2               NaT  \n",
       "3        2019-08-06  \n",
       "4        2019-11-03  \n",
       "\n",
       "[5 rows x 21 columns]"
      ]
     },
     "execution_count": 3,
     "metadata": {},
     "output_type": "execute_result"
    }
   ],
   "source": [
    "data.head()"
   ]
  },
  {
   "cell_type": "code",
   "execution_count": 4,
   "id": "d73d92ab",
   "metadata": {},
   "outputs": [
    {
     "data": {
      "text/plain": [
       "(28382, 21)"
      ]
     },
     "execution_count": 4,
     "metadata": {},
     "output_type": "execute_result"
    }
   ],
   "source": [
    "data.shape"
   ]
  },
  {
   "cell_type": "markdown",
   "id": "1cfa0c7b",
   "metadata": {},
   "source": [
    "## tirino meqa rag ah iyo meeqaa dumar ah"
   ]
  },
  {
   "cell_type": "code",
   "execution_count": 7,
   "id": "fc063c6f",
   "metadata": {},
   "outputs": [
    {
     "data": {
      "text/plain": [
       "Male      16548\n",
       "Female    11309\n",
       "Name: gender, dtype: int64"
      ]
     },
     "execution_count": 7,
     "metadata": {},
     "output_type": "execute_result"
    }
   ],
   "source": [
    "data.gender.value_counts()"
   ]
  },
  {
   "cell_type": "markdown",
   "id": "9c6b2e6e",
   "metadata": {},
   "source": [
    "## inaa ogaano customerskeena nooca ay yihiin: (Arday, Shaqaale, iskii u shaqeeste, gaboobe, company ushaqeeyo)"
   ]
  },
  {
   "cell_type": "code",
   "execution_count": 8,
   "id": "88286dfd",
   "metadata": {},
   "outputs": [
    {
     "data": {
      "text/plain": [
       "self_employed    17476\n",
       "salaried          6704\n",
       "student           2058\n",
       "retired           2024\n",
       "company             40\n",
       "Name: occupation, dtype: int64"
      ]
     },
     "execution_count": 8,
     "metadata": {},
     "output_type": "execute_result"
    }
   ],
   "source": [
    "data.occupation.value_counts()"
   ]
  },
  {
   "cell_type": "code",
   "execution_count": 11,
   "id": "8061b774",
   "metadata": {
    "scrolled": true
   },
   "outputs": [
    {
     "data": {
      "text/plain": [
       "Index(['customer_id', 'vintage', 'age', 'gender', 'dependents', 'occupation',\n",
       "       'city', 'customer_nw_category', 'branch_code', 'current_balance',\n",
       "       'previous_month_end_balance', 'average_monthly_balance_prevQ',\n",
       "       'average_monthly_balance_prevQ2', 'current_month_credit',\n",
       "       'previous_month_credit', 'current_month_debit', 'previous_month_debit',\n",
       "       'current_month_balance', 'previous_month_balance', 'churn',\n",
       "       'last_transaction'],\n",
       "      dtype='object')"
      ]
     },
     "execution_count": 11,
     "metadata": {},
     "output_type": "execute_result"
    }
   ],
   "source": [
    "# how many columns do we have on out dataset.\n",
    "data.columns"
   ]
  },
  {
   "cell_type": "code",
   "execution_count": 12,
   "id": "338a3e5b",
   "metadata": {
    "scrolled": true
   },
   "outputs": [
    {
     "data": {
      "text/plain": [
       "customer_id                         int64\n",
       "vintage                             int64\n",
       "age                                 int64\n",
       "gender                             object\n",
       "dependents                        float64\n",
       "occupation                         object\n",
       "city                              float64\n",
       "customer_nw_category                int64\n",
       "branch_code                         int64\n",
       "current_balance                   float64\n",
       "previous_month_end_balance        float64\n",
       "average_monthly_balance_prevQ     float64\n",
       "average_monthly_balance_prevQ2    float64\n",
       "current_month_credit              float64\n",
       "previous_month_credit             float64\n",
       "current_month_debit               float64\n",
       "previous_month_debit              float64\n",
       "current_month_balance             float64\n",
       "previous_month_balance            float64\n",
       "churn                               int64\n",
       "last_transaction                   object\n",
       "dtype: object"
      ]
     },
     "execution_count": 12,
     "metadata": {},
     "output_type": "execute_result"
    }
   ],
   "source": [
    "data.dtypes"
   ]
  },
  {
   "cell_type": "markdown",
   "id": "3978204a",
   "metadata": {},
   "source": [
    "# ................................................................another video starts here: Variable Identification"
   ]
  },
  {
   "cell_type": "markdown",
   "id": "b8eefe5a",
   "metadata": {},
   "source": [
    "## integer data type columns"
   ]
  },
  {
   "cell_type": "code",
   "execution_count": 13,
   "id": "dafccf19",
   "metadata": {},
   "outputs": [
    {
     "data": {
      "text/plain": [
       "customer_id             int64\n",
       "vintage                 int64\n",
       "age                     int64\n",
       "customer_nw_category    int64\n",
       "branch_code             int64\n",
       "churn                   int64\n",
       "dtype: object"
      ]
     },
     "execution_count": 13,
     "metadata": {},
     "output_type": "execute_result"
    }
   ],
   "source": [
    "data.dtypes[data.dtypes == 'int64']"
   ]
  },
  {
   "cell_type": "markdown",
   "id": "fd396220",
   "metadata": {},
   "source": [
    "## customer_id, vintage and age are int64 that's okey\n",
    "\n",
    "## but churn , customer_networth_category and branch_code are categorical.\n",
    "\n",
    "## customer_networth_category is ordinal category.\n",
    "\n",
    "## branch_code : represents braches, it is categorical data type\n",
    "\n",
    "## churn: 1 represents churn while 0 represents not churn, so we have to change categorical data type"
   ]
  },
  {
   "cell_type": "markdown",
   "id": "c2b8a249",
   "metadata": {},
   "source": [
    "## converting to category data type"
   ]
  },
  {
   "cell_type": "code",
   "execution_count": 19,
   "id": "1deda483",
   "metadata": {},
   "outputs": [],
   "source": [
    "data['churn'] = data['churn'].astype('category')\n",
    "data['customer_nw_category'] = data['customer_nw_category'].astype('category')\n",
    "data['branch_code'] = data['branch_code'].astype('category')\n"
   ]
  },
  {
   "cell_type": "markdown",
   "id": "1ccda6bf",
   "metadata": {},
   "source": [
    "## kadib markii aan 3xdii kale kadhigay category kaliya 3 xdaan ayaa int ah"
   ]
  },
  {
   "cell_type": "code",
   "execution_count": 21,
   "id": "4e1faeae",
   "metadata": {},
   "outputs": [
    {
     "data": {
      "text/plain": [
       "customer_id    int64\n",
       "vintage        int64\n",
       "age            int64\n",
       "dtype: object"
      ]
     },
     "execution_count": 21,
     "metadata": {},
     "output_type": "execute_result"
    }
   ],
   "source": [
    "data.dtypes[data.dtypes == 'int64']"
   ]
  },
  {
   "cell_type": "code",
   "execution_count": 22,
   "id": "d58cf5cc",
   "metadata": {},
   "outputs": [
    {
     "data": {
      "text/plain": [
       "customer_nw_category    category\n",
       "branch_code             category\n",
       "churn                   category\n",
       "dtype: object"
      ]
     },
     "execution_count": 22,
     "metadata": {},
     "output_type": "execute_result"
    }
   ],
   "source": [
    "data.dtypes[data.dtypes == 'category']"
   ]
  },
  {
   "cell_type": "markdown",
   "id": "a4b5eab2",
   "metadata": {},
   "source": [
    "## these are all column that are float64 data types:\n",
    "\n",
    "## but depencies is float 64 change it to int.\n",
    "## also city is float64 change it to category"
   ]
  },
  {
   "cell_type": "code",
   "execution_count": 26,
   "id": "0fb6f05b",
   "metadata": {},
   "outputs": [
    {
     "data": {
      "text/plain": [
       "dependents                        float64\n",
       "city                              float64\n",
       "current_balance                   float64\n",
       "previous_month_end_balance        float64\n",
       "average_monthly_balance_prevQ     float64\n",
       "average_monthly_balance_prevQ2    float64\n",
       "current_month_credit              float64\n",
       "previous_month_credit             float64\n",
       "current_month_debit               float64\n",
       "previous_month_debit              float64\n",
       "current_month_balance             float64\n",
       "previous_month_balance            float64\n",
       "dtype: object"
      ]
     },
     "execution_count": 26,
     "metadata": {},
     "output_type": "execute_result"
    }
   ],
   "source": [
    "data.dtypes[data.dtypes == 'float64']"
   ]
  },
  {
   "cell_type": "markdown",
   "id": "bf598d8d",
   "metadata": {},
   "source": [
    "## changing dependents to Int64 and city to category"
   ]
  },
  {
   "cell_type": "code",
   "execution_count": 30,
   "id": "0767bd46",
   "metadata": {},
   "outputs": [],
   "source": [
    "data['dependents'] = data['dependents'].astype('Int64')\n",
    "data['city'] = data['city'].astype('category')"
   ]
  },
  {
   "cell_type": "markdown",
   "id": "eb2ae216",
   "metadata": {},
   "source": [
    "## chagning the columns that are flaot64"
   ]
  },
  {
   "cell_type": "code",
   "execution_count": 31,
   "id": "8601b737",
   "metadata": {},
   "outputs": [
    {
     "data": {
      "text/plain": [
       "current_balance                   float64\n",
       "previous_month_end_balance        float64\n",
       "average_monthly_balance_prevQ     float64\n",
       "average_monthly_balance_prevQ2    float64\n",
       "current_month_credit              float64\n",
       "previous_month_credit             float64\n",
       "current_month_debit               float64\n",
       "previous_month_debit              float64\n",
       "current_month_balance             float64\n",
       "previous_month_balance            float64\n",
       "dtype: object"
      ]
     },
     "execution_count": 31,
     "metadata": {},
     "output_type": "execute_result"
    }
   ],
   "source": [
    "data.dtypes[data.dtypes == 'float64']"
   ]
  },
  {
   "cell_type": "markdown",
   "id": "595118da",
   "metadata": {},
   "source": [
    "## checking 3 object data types"
   ]
  },
  {
   "cell_type": "code",
   "execution_count": 37,
   "id": "a2ee89be",
   "metadata": {},
   "outputs": [
    {
     "data": {
      "text/plain": [
       "gender              object\n",
       "occupation          object\n",
       "last_transaction    object\n",
       "dtype: object"
      ]
     },
     "execution_count": 37,
     "metadata": {},
     "output_type": "execute_result"
    }
   ],
   "source": [
    "data[['gender', 'occupation', 'last_transaction']].dtypes"
   ]
  },
  {
   "cell_type": "markdown",
   "id": "a03e8e15",
   "metadata": {},
   "source": [
    "## 3xdabo waa object: lkn se\n",
    "\n",
    "## gender and occupation: make it categorical.\n",
    "\n",
    "## last_transaction: make it datetime "
   ]
  },
  {
   "cell_type": "markdown",
   "id": "ec5367d9",
   "metadata": {},
   "source": [
    "## making gender and occupation to category"
   ]
  },
  {
   "cell_type": "code",
   "execution_count": 39,
   "id": "2202d281",
   "metadata": {},
   "outputs": [],
   "source": [
    "data[['gender', 'occupation']] = data[['gender', 'occupation']].astype(\"category\")"
   ]
  },
  {
   "cell_type": "code",
   "execution_count": 41,
   "id": "938813bc",
   "metadata": {},
   "outputs": [
    {
     "data": {
      "text/plain": [
       "gender        category\n",
       "occupation    category\n",
       "dtype: object"
      ]
     },
     "execution_count": 41,
     "metadata": {},
     "output_type": "execute_result"
    }
   ],
   "source": [
    "## checking gender and occupation data type.\n",
    "data[['gender', 'occupation']].dtypes"
   ]
  },
  {
   "cell_type": "markdown",
   "id": "2b36869f",
   "metadata": {},
   "source": [
    "## date time data type"
   ]
  },
  {
   "cell_type": "code",
   "execution_count": 42,
   "id": "e788b89e",
   "metadata": {},
   "outputs": [],
   "source": [
    "# creating an instance(date) od DatetimeIndex calss using \"last_transaction\"\n",
    "date = pd.DatetimeIndex(data['last_transaction'])"
   ]
  },
  {
   "cell_type": "code",
   "execution_count": 54,
   "id": "98dc6d73",
   "metadata": {
    "scrolled": true
   },
   "outputs": [
    {
     "name": "stderr",
     "output_type": "stream",
     "text": [
      "C:\\Users\\Fatih\\AppData\\Local\\Temp\\ipykernel_15644\\519198547.py:8: FutureWarning: weekofyear and week have been deprecated, please use DatetimeIndex.isocalendar().week instead, which returns a Series. To exactly reproduce the behavior of week and weekofyear and return an Index, you may call pd.Int64Index(idx.isocalendar().week)\n",
      "  data['woy_ls_tran'] = date.weekofyear\n"
     ]
    }
   ],
   "source": [
    "# extacting new columns from \"last_transaction\"\n",
    "\n",
    "# last day of year when transaction was done\n",
    "data['doy_ls_tran'] = date.dayofyear\n",
    "\n",
    "\n",
    "# week of year when last transaction was done\n",
    "data['woy_ls_tran'] = date.weekofyear\n",
    "\n",
    "# monthe of year when last transaction was done\n",
    "data['moy_ls_tran'] = date.month\n",
    "\n",
    "# day of week when last transaction was done\n",
    "data['dow_ls_tran'] = date.dayofweek\n"
   ]
  },
  {
   "cell_type": "code",
   "execution_count": 56,
   "id": "c8e50fdf",
   "metadata": {},
   "outputs": [
    {
     "data": {
      "text/html": [
       "<div>\n",
       "<style scoped>\n",
       "    .dataframe tbody tr th:only-of-type {\n",
       "        vertical-align: middle;\n",
       "    }\n",
       "\n",
       "    .dataframe tbody tr th {\n",
       "        vertical-align: top;\n",
       "    }\n",
       "\n",
       "    .dataframe thead th {\n",
       "        text-align: right;\n",
       "    }\n",
       "</style>\n",
       "<table border=\"1\" class=\"dataframe\">\n",
       "  <thead>\n",
       "    <tr style=\"text-align: right;\">\n",
       "      <th></th>\n",
       "      <th>last_transaction</th>\n",
       "      <th>doy_ls_tran</th>\n",
       "      <th>woy_ls_tran</th>\n",
       "      <th>moy_ls_tran</th>\n",
       "      <th>dow_ls_tran</th>\n",
       "    </tr>\n",
       "  </thead>\n",
       "  <tbody>\n",
       "    <tr>\n",
       "      <th>0</th>\n",
       "      <td>2019-05-21</td>\n",
       "      <td>141.0</td>\n",
       "      <td>21.0</td>\n",
       "      <td>5.0</td>\n",
       "      <td>1.0</td>\n",
       "    </tr>\n",
       "    <tr>\n",
       "      <th>1</th>\n",
       "      <td>2019-11-01</td>\n",
       "      <td>305.0</td>\n",
       "      <td>44.0</td>\n",
       "      <td>11.0</td>\n",
       "      <td>4.0</td>\n",
       "    </tr>\n",
       "    <tr>\n",
       "      <th>2</th>\n",
       "      <td>NaT</td>\n",
       "      <td>NaN</td>\n",
       "      <td>NaN</td>\n",
       "      <td>NaN</td>\n",
       "      <td>NaN</td>\n",
       "    </tr>\n",
       "    <tr>\n",
       "      <th>3</th>\n",
       "      <td>2019-08-06</td>\n",
       "      <td>218.0</td>\n",
       "      <td>32.0</td>\n",
       "      <td>8.0</td>\n",
       "      <td>1.0</td>\n",
       "    </tr>\n",
       "    <tr>\n",
       "      <th>4</th>\n",
       "      <td>2019-11-03</td>\n",
       "      <td>307.0</td>\n",
       "      <td>44.0</td>\n",
       "      <td>11.0</td>\n",
       "      <td>6.0</td>\n",
       "    </tr>\n",
       "  </tbody>\n",
       "</table>\n",
       "</div>"
      ],
      "text/plain": [
       "  last_transaction  doy_ls_tran  woy_ls_tran  moy_ls_tran  dow_ls_tran\n",
       "0       2019-05-21        141.0         21.0          5.0          1.0\n",
       "1       2019-11-01        305.0         44.0         11.0          4.0\n",
       "2              NaT          NaN          NaN          NaN          NaN\n",
       "3       2019-08-06        218.0         32.0          8.0          1.0\n",
       "4       2019-11-03        307.0         44.0         11.0          6.0"
      ]
     },
     "execution_count": 56,
     "metadata": {},
     "output_type": "execute_result"
    }
   ],
   "source": [
    "data[['last_transaction', 'doy_ls_tran' , 'woy_ls_tran', 'moy_ls_tran', 'dow_ls_tran']].head()"
   ]
  },
  {
   "cell_type": "code",
   "execution_count": 70,
   "id": "0a4b2c5d",
   "metadata": {},
   "outputs": [
    {
     "data": {
      "text/plain": [
       "last_transaction     object\n",
       "doy_ls_tran         float64\n",
       "woy_ls_tran         float64\n",
       "moy_ls_tran         float64\n",
       "dow_ls_tran         float64\n",
       "dtype: object"
      ]
     },
     "execution_count": 70,
     "metadata": {},
     "output_type": "execute_result"
    }
   ],
   "source": [
    "data[['last_transaction', 'doy_ls_tran' , 'woy_ls_tran', 'moy_ls_tran', 'dow_ls_tran']].dtypes"
   ]
  },
  {
   "cell_type": "code",
   "execution_count": null,
   "id": "dd864915",
   "metadata": {},
   "outputs": [],
   "source": []
  }
 ],
 "metadata": {
  "kernelspec": {
   "display_name": "Python 3 (ipykernel)",
   "language": "python",
   "name": "python3"
  },
  "language_info": {
   "codemirror_mode": {
    "name": "ipython",
    "version": 3
   },
   "file_extension": ".py",
   "mimetype": "text/x-python",
   "name": "python",
   "nbconvert_exporter": "python",
   "pygments_lexer": "ipython3",
   "version": "3.9.12"
  }
 },
 "nbformat": 4,
 "nbformat_minor": 5
}
